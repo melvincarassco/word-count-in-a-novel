{
 "cells": [
  {
   "cell_type": "markdown",
   "metadata": {},
   "source": [
    "# Question : Find the most words used in the Novel"
   ]
  },
  {
   "cell_type": "markdown",
   "metadata": {},
   "source": [
    "# Step 1 : Get the Data \n",
    "we need to import requests module,\n",
    "you can request it by creating a object 'r' and requesting the url of the novel/book by using get."
   ]
  },
  {
   "cell_type": "code",
   "execution_count": 2,
   "metadata": {},
   "outputs": [
    {
     "name": "stdout",
     "output_type": "stream",
     "text": [
      "<class 'requests.models.Response'>\n"
     ]
    }
   ],
   "source": [
    "import requests\n",
    "r = requests.get('https://www.gutenberg.org/files/74/74-h/74-h.htm')\n",
    "print(type(r))"
   ]
  },
  {
   "cell_type": "markdown",
   "metadata": {},
   "source": [
    "As you can see, it's a response object. we use text to extract the html from it. \n",
    "Let's print only few lines."
   ]
  },
  {
   "cell_type": "code",
   "execution_count": 15,
   "metadata": {},
   "outputs": [
    {
     "name": "stdout",
     "output_type": "stream",
     "text": [
      "<!DOCTYPE html PUBLIC \"-//W3C//DTD XHTML 1.0 Strict//EN\"\r\n",
      "\"http://www.w3.org/TR/xhtml1/DTD/xhtml1-strict.dtd\">\r\n",
      "<html xmlns=\"http://www.w3.org/1999/xhtml\" xml:lang=\"en\" lang=\"en\">\r\n",
      "<head>\r\n",
      "<meta http-equiv=\"Content-Type\" content=\"text/html;charset=utf-8\" />\r\n",
      "<meta http-equiv=\"Content-Style-Type\" content=\"text/css\" />\r\n",
      "<title>The Project Gutenberg eBook of The Adventures of Tom Sawyer, By Mark Twain</title>\r\n",
      "<link rel=\"coverpage\" href=\"images/cover.jpg\" />\r\n",
      "<style type=\"text/css\" xml:space=\"preserve\">\r\n",
      "\r\n",
      "    body { margin-left: 20%; margin-right: 20%; background:#faebd0; text-align:justify}\r\n",
      "    p { text-indent: 1em; margin-top: .25em; margin-bottom: .25em; }\r\n",
      "    H1,H2,H3,H4,H5,H6 { text-align: center; margin-left: 15%; margin-right: 15%; }\r\n",
      "    hr  { width: 50%; text-align: center;}\r\n",
      "    blockquote {font-size: 97%; font-style: italic; margin-left: 10%; margin-right: 10%;}\r\n",
      "    div.fig    { display:block; margin:0 auto; text-align:center; }\r\n",
      "\r\n",
      "</style>\r\n",
      "  </head>\r\n",
      "  <body>\r\n",
      "\r\n",
      "<div styl\n"
     ]
    }
   ],
   "source": [
    "html = r.text\n",
    "print(html[:1000])"
   ]
  },
  {
   "cell_type": "markdown",
   "metadata": {},
   "source": [
    "The above text doesn't make sense as it contains text and html code. Getting rid of some html tags will help us . "
   ]
  },
  {
   "cell_type": "markdown",
   "metadata": {},
   "source": [
    "# Step 2 : Wrangle the Data"
   ]
  },
  {
   "cell_type": "markdown",
   "metadata": {},
   "source": [
    "From the bs4 module we can import BeautifulSoup.\n",
    "Here, BeautifulSoup will extract text with ease from the html code.\n",
    "create an object called soup\n"
   ]
  },
  {
   "cell_type": "code",
   "execution_count": 17,
   "metadata": {},
   "outputs": [],
   "source": [
    "from bs4 import BeautifulSoup\n",
    "soup = BeautifulSoup(html)"
   ]
  },
  {
   "cell_type": "markdown",
   "metadata": {},
   "source": [
    "Will use get_text on the soup object we created, earlier. At the end, print only few lines in between the novel, by passing an index on text.\n"
   ]
  },
  {
   "cell_type": "code",
   "execution_count": 23,
   "metadata": {},
   "outputs": [
    {
     "name": "stdout",
     "output_type": "stream",
     "text": [
      "\n",
      "    \n",
      "\r\n",
      "      “I never did see the beat of that boy!”\r\n",
      "    \n",
      "\r\n",
      "      She went to the open door and stood in it and looked out among the tomato\r\n",
      "      vines and “jimpson” weeds that constituted the garden. No Tom.\r\n",
      "      So she lifted up her voice at an angle calculated for distance and\r\n",
      "      shouted:\r\n",
      "    \n",
      "\r\n",
      "      “Y-o-u-u TOM!”\r\n",
      "    \n",
      "\r\n",
      "      There was a slight noise behind her and she turned just in time to seize a\r\n",
      "      small boy by the slack of his roundabout and arrest his flight.\r\n",
      "    \n",
      "\r\n",
      "      “There! I might ’a’ thought of that closet. What you\r\n",
      "      been doing in there?”\r\n",
      "    \n",
      "\r\n",
      "      “Nothing.”\r\n",
      "    \n",
      "\r\n",
      "      “Nothing! Look at your hands. And look at your mouth. What is\r\n",
      "      that truck?”\r\n",
      "    \n",
      "\r\n",
      "      “I don’t know, aunt.”\r\n",
      "    \n",
      "\r\n",
      "      “Well, I know. It’s jam—that’s what it is. Forty\r\n",
      "      times I’ve said if you didn’t let that jam alone I’d\r\n",
      "      skin you. Hand me that switch.”\r\n",
      "    \n",
      "\r\n",
      "      The switch hovered in the air—the peril was desperate—\r\n",
      "    \n",
      "\r\n",
      "      “My! Look behind you, aunt!”\r\n",
      "    \n",
      "\r\n",
      "      The old lady whirled round, and snatched her skirts out of danger. The lad\r\n",
      "      fled on the instant, scrambled up the high board-fence, and disappeared\r\n",
      "      over it.\r\n",
      "    \n",
      "\n",
      "   \n",
      "\n",
      "\n",
      "\n",
      "\n",
      "\n",
      "  \n",
      "\n",
      "\r\n",
      "      His aunt Polly stood surprised a moment, and then broke into a gentle\r\n",
      "      laugh.\r\n",
      "    \n",
      "\r\n",
      "      “Hang the boy, can’t I never learn anything? Ain’t he\r\n",
      "      played me tricks enough like that for me to be looking out for him by this\r\n",
      "      time? But old fools is the biggest fools there is. Can’t learn an\r\n",
      "      old dog new tricks, as the saying is. But my goodness, he never plays them\r\n",
      "      alike, two days, and how is a body to know what’s coming? He ’pears\r\n",
      "      to know just how long he can torment me before I get my dander up, and he\r\n",
      "      knows if he can make out to put me off for a minute or make me laugh, it’s\r\n",
      "      all down again and I can’t hit him a lick. I ain’t doing my\r\n",
      "      duty by that boy, and that’s the Lord’s truth, goodness knows.\r\n",
      "      Spare the rod and spile the child, as the Good Book says. I’m a\r\n",
      "      laying up sin and suffering for us both, I know. He’s full of the\r\n",
      "      Old Scratch, but laws-a-me! he’s my own dead sister’s boy,\r\n",
      "      poor thing, and I ain’t got the heart to lash him, somehow. Every\r\n",
      "      time I let him off, my conscience does hurt me so, and every time I hit\r\n",
      "      him my old heart most breaks. Well-a-well, man that is born of woman is of\r\n",
      "      few days and full of trouble, as the Scripture says, and I reckon it’s\r\n",
      "      so. He’ll play hookey this evening, * and [* Southwestern for\r\n",
      "      “afternoon”] I’ll just be obleeged to make him work,\r\n",
      "      tomorrow, to punish him. It’s mighty hard to make him work\r\n",
      "      Saturdays, when all the boys is having holiday, but he hates work more\r\n",
      "      than he hates anything else, and I’ve got to do some of my\r\n",
      "      duty by him, or I’ll be the ruination of the child.”\r\n",
      "    \n",
      "\r\n",
      "      Tom did play hookey, and he had a very good time. He got back home barely\r\n",
      "      in season to help Jim, the small colored boy, saw next-day’s wood\r\n",
      "      and split the kindlings before supper—at least he was there in time\r\n",
      "      to tell his adventures to Jim while Jim did three-fourths of the work. Tom’s\r\n",
      "      younger brother (or rather half-brother) Sid was already through with his\r\n",
      "      part of the work (picking up chips), for he was a quiet boy, and had no\r\n",
      "      adventurous, trouble-some ways.\r\n",
      "    \n",
      "\n",
      "   \n",
      "\n",
      "\n",
      "\n",
      "\n",
      "\n",
      "  \n",
      "\n",
      "\r\n",
      "      While Tom was eating his supper, and stealing sugar as opportunity\r\n",
      "      offered, Aunt Polly asked him questions that were full of guile, and very\r\n",
      "      deep—for she wanted to trap him into damaging revealments. Like many\r\n",
      "      other simple-hearted souls, it was her pet vanity to believe she was\r\n",
      "      endowed with a talent for dark and mysterious diplomacy, and she loved to\r\n",
      "      contemplate her most transparent devices as marvels of low cunning. Said\r\n",
      "      she:\r\n",
      "    \n",
      "\r\n",
      "      “Tom, it was middling warm in school, warn’t it?”\r\n",
      "    \n",
      "\r\n",
      "      “Yes’m.”\r\n",
      "    \n",
      "\r\n",
      "      “Powerful warm, warn’t it?”\r\n",
      "    \n",
      "\r\n",
      "      “Yes’m.”\r\n",
      "    \n",
      "\r\n",
      "      “Didn’t you want to go in a-swimming, Tom?”\r\n",
      "    \n",
      "\r\n",
      "      A bit of a scare shot through Tom—a touch of uncomfortable\r\n",
      "      suspicion. He searched Aunt Polly’s face, but it told him nothing.\r\n",
      "      So he said:\r\n",
      "    \n",
      "\r\n",
      "      “No’m—well, not very much.”\r\n",
      "    \n",
      "\r\n",
      "      The old lady reached out her hand and felt Tom’s shirt, and said:\r\n",
      "    \n",
      "\r\n",
      "      “But you ain’t too warm now, though.” And it flattered\r\n",
      "      her to reflect that she had discovered that the shirt was dry without\r\n",
      "      anybody knowing that that was what she had in her mind. But in spite of\r\n",
      "      her, Tom knew where the wind lay, now. So he forestalled what might be the\r\n",
      "      next move:\r\n",
      "    \n",
      "\r\n",
      "      “Some of us pumped on our heads—mine’s damp yet. See?”\r\n",
      "    \n",
      "\r\n",
      "      Aunt Polly was vexed to think she had overlooked that bit of\r\n",
      "      circumstantial evidence, and missed a trick. Then she had a new\r\n",
      " \n"
     ]
    }
   ],
   "source": [
    "text = soup.get_text()\n",
    "print(text[10025:15000])"
   ]
  },
  {
   "cell_type": "markdown",
   "metadata": {},
   "source": [
    "The text is now more clear to read and understand."
   ]
  },
  {
   "cell_type": "markdown",
   "metadata": {},
   "source": [
    "# Step 3 : Using NLP extract words from text"
   ]
  },
  {
   "cell_type": "markdown",
   "metadata": {},
   "source": [
    "we need to import nltk, the Natural Language toolkit. \n",
    "There are two parts for this step.\n",
    "\n",
    "1. Tokenize the text\n",
    "2. Remove stopwords.\n"
   ]
  },
  {
   "cell_type": "markdown",
   "metadata": {},
   "source": [
    "# 1\n",
    "To tokenize the text , which means we need to split the words in the text. \n",
    "by passing '\\w', it will separate words with whitespaces.\n",
    "we need to import Regexptokenizer from nltk toolkit\n"
   ]
  },
  {
   "cell_type": "code",
   "execution_count": 27,
   "metadata": {},
   "outputs": [
    {
     "name": "stdout",
     "output_type": "stream",
     "text": [
      "['The', 'Project', 'Gutenberg', 'eBook', 'of', 'The', 'Adventures', 'of', 'Tom', 'Sawyer', 'By', 'Mark', 'Twain', 'body', 'margin', 'left', '20', 'margin', 'right', '20', 'background', 'faebd0', 'text', 'align', 'justify', 'p', 'text', 'indent', '1em', 'margin', 'top', '25em', 'margin', 'bottom', '25em', 'H1', 'H2', 'H3', 'H4', 'H5', 'H6', 'text', 'align', 'center', 'margin', 'left', '15', 'margin', 'right', '15', 'hr', 'width', '50', 'text', 'align', 'center', 'blockquote', 'font', 'size', '97', 'font', 'style', 'italic', 'margin', 'left', '10', 'margin', 'right', '10', 'div', 'fig', 'display', 'block', 'margin', '0', 'auto', 'text', 'align', 'center', 'The', 'Project', 'Gutenberg', 'eBook', 'of', 'The', 'Adventures', 'of', 'Tom', 'Sawyer', 'by', 'Mark', 'Twain', 'This', 'eBook', 'is', 'for', 'the', 'use', 'of', 'anyone']\n"
     ]
    }
   ],
   "source": [
    "from nltk.tokenize import RegexpTokenizer\n",
    "tokenizer = RegexpTokenizer('\\w+')\n",
    "\n",
    "tokens = tokenizer.tokenize(text)\n",
    "print(tokens[:100])"
   ]
  },
  {
   "cell_type": "markdown",
   "metadata": {},
   "source": [
    "We have words with uppercase letters, let's create a for loop which converts uppercase to lowercase and stores that in a list, as it becomes easy later on to calculate the number of words repeated."
   ]
  },
  {
   "cell_type": "code",
   "execution_count": 28,
   "metadata": {},
   "outputs": [
    {
     "name": "stdout",
     "output_type": "stream",
     "text": [
      "['the', 'project', 'gutenberg', 'ebook', 'of', 'the', 'adventures', 'of', 'tom', 'sawyer']\n"
     ]
    }
   ],
   "source": [
    "words = []\n",
    "for word in tokens:\n",
    "    words.append(word.lower())\n",
    "\n",
    "print(words[:10])"
   ]
  },
  {
   "cell_type": "markdown",
   "metadata": {},
   "source": [
    "# 2\n",
    "The text has many articles  like 'the','an','and'. It's a common practice to get rid of these words. In order to get rid of these words we use stopwords package which already consists of such common words.\n",
    "\n",
    "\n",
    "If any error , Use nltk.download('stopwords') to install the stopwords on your system.\n"
   ]
  },
  {
   "cell_type": "code",
   "execution_count": 30,
   "metadata": {},
   "outputs": [
    {
     "name": "stdout",
     "output_type": "stream",
     "text": [
      "['i', 'me', 'my', 'myself', 'we', 'our', 'ours', 'ourselves', 'you', \"you're\", \"you've\", \"you'll\", \"you'd\", 'your', 'yours', 'yourself', 'yourselves', 'he', 'him', 'his']\n"
     ]
    }
   ],
   "source": [
    "import nltk\n",
    "\n",
    "sw = nltk.corpus.stopwords.words('english')\n",
    "print(sw[:20])"
   ]
  },
  {
   "cell_type": "markdown",
   "metadata": {},
   "source": [
    "We got two lists now , we want the list of  all words in 'words' that are not in 'sw'. We need to use for loop here."
   ]
  },
  {
   "cell_type": "code",
   "execution_count": 32,
   "metadata": {},
   "outputs": [
    {
     "name": "stdout",
     "output_type": "stream",
     "text": [
      "['project', 'gutenberg', 'ebook', 'adventures', 'tom', 'sawyer', 'mark', 'twain', 'body', 'margin', 'left', '20', 'margin', 'right', '20', 'background', 'faebd0', 'text', 'align', 'justify']\n"
     ]
    }
   ],
   "source": [
    "words_sw = []\n",
    "for word in words:\n",
    "    if word not in sw :\n",
    "        words_sw.append(word)\n",
    "        \n",
    "print(words_sw[:20])"
   ]
  },
  {
   "cell_type": "markdown",
   "metadata": {},
   "source": [
    "# Step 4 : Count the words \n"
   ]
  },
  {
   "cell_type": "code",
   "execution_count": 33,
   "metadata": {},
   "outputs": [
    {
     "name": "stdout",
     "output_type": "stream",
     "text": [
      "[('tom', 824), ('said', 356), ('huck', 258), ('would', 241), ('one', 192), ('time', 191), ('could', 182), ('got', 177), ('well', 175), ('joe', 170)]\n"
     ]
    }
   ],
   "source": [
    "from collections import Counter\n",
    "\n",
    "count = Counter(words_sw)\n",
    "\n",
    "top_ten = count.most_common(10)\n",
    "print(top_ten)"
   ]
  },
  {
   "cell_type": "markdown",
   "metadata": {},
   "source": [
    "We can see that the word tom was used 824 times in the novel."
   ]
  },
  {
   "cell_type": "markdown",
   "metadata": {},
   "source": [
    "# Step 5 : Plot the data\n",
    "\n",
    "We can use matplotlib here to plot the data.\n",
    "You create a frequency distribution by using nltk.FreqDist and then plot the first 10 words by passing 10 as a argument to plot()."
   ]
  },
  {
   "cell_type": "code",
   "execution_count": 13,
   "metadata": {},
   "outputs": [
    {
     "data": {
      "image/png": "[encoded data removed]",
      "text/plain": [
       "<Figure size 432x288 with 1 Axes>"
      ]
     },
     "metadata": {},
     "output_type": "display_data"
    }
   ],
   "source": [
    "import matplotlib.pyplot as plt\n",
    "import seaborn as sns\n",
    "import nltk\n",
    "%matplotlib inline\n",
    "sns.set()\n",
    "frq1 = nltk.FreqDist(words_sw)\n",
    "frq1.plot(10)"
   ]
  },
  {
   "cell_type": "markdown",
   "metadata": {},
   "source": [
    "It is easier to visualize the data through graphs."
   ]
  },
  {
   "cell_type": "markdown",
   "metadata": {},
   "source": [
    "# Creating a function\n"
   ]
  },
  {
   "cell_type": "code",
   "execution_count": 14,
   "metadata": {},
   "outputs": [],
   "source": [
    "def word_frequency(url):\n",
    "    r = requests.get(url)\n",
    "    # Extract HTML from Response object and print\n",
    "    html = r.text\n",
    "    # Create a BeautifulSoup object from the HTML\n",
    "    soup = BeautifulSoup(html, \"html5lib\")\n",
    "    # Get the text out of the soup and print it\n",
    "    text = soup.get_text()\n",
    "    # Create tokenizer\n",
    "    tokenizer = RegexpTokenizer('\\w+')\n",
    "    # Create tokens\n",
    "    tokens = tokenizer.tokenize(text)\n",
    "    # Initialize new list\n",
    "    words = []\n",
    "    # Loop through list tokens and make lower case\n",
    "    for word in tokens:\n",
    "        words.append(word.lower())\n",
    "    # Get English stopwords and print some of them\n",
    "    sw = nltk.corpus.stopwords.words('english')\n",
    "    # Initialize new list\n",
    "    words_sw = []\n",
    "    # Add to words_ns all words that are in words but not in sw\n",
    "    for word in words:\n",
    "        if word not in sw:\n",
    "            words_sw.append(word)\n",
    "    # Create freq dist and plot\n",
    "    freqdist1 = nltk.FreqDist(words_sw)\n",
    "    freqdist1.plot(10)"
   ]
  },
  {
   "cell_type": "code",
   "execution_count": 16,
   "metadata": {},
   "outputs": [
    {
     "data": {
      "image/png": "[encoded data removed]",
      "text/plain": [
       "<Figure size 432x288 with 1 Axes>"
      ]
     },
     "metadata": {},
     "output_type": "display_data"
    }
   ],
   "source": [
    "word_frequency('https://www.gutenberg.org/files/1497/1497-h/1497-h.htm')"
   ]
  },
  {
   "cell_type": "code",
   "execution_count": 17,
   "metadata": {},
   "outputs": [
    {
     "data": {
      "image/png": "[encoded data removed]",
      "text/plain": [
       "<Figure size 432x288 with 1 Axes>"
      ]
     },
     "metadata": {},
     "output_type": "display_data"
    }
   ],
   "source": [
    "word_frequency('https://www.gutenberg.org/files/140/140-h/140-h.htm')"
   ]
  },
  {
   "cell_type": "markdown",
   "metadata": {},
   "source": [
    "Here, we created our very own function which displays a graph of the total words repeated."
   ]
  },
  {
   "cell_type": "markdown",
   "metadata": {},
   "source": [
    "We just need to get the url of the novel and pass it as a argument in the function created. "
   ]
  },
  {
   "cell_type": "code",
   "execution_count": null,
   "metadata": {},
   "outputs": [],
   "source": []
  }
 ],
 "metadata": {
  "kernelspec": {
   "display_name": "Python 3",
   "language": "python",
   "name": "python3"
  },
  "language_info": {
   "codemirror_mode": {
    "name": "ipython",
    "version": 3
   },
   "file_extension": ".py",
   "mimetype": "text/x-python",
   "name": "python",
   "nbconvert_exporter": "python",
   "pygments_lexer": "ipython3",
   "version": "3.7.0"
  }
 },
 "nbformat": 4,
 "nbformat_minor": 2
}
